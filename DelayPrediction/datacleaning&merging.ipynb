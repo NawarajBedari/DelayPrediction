{
 "cells": [
  {
   "cell_type": "code",
   "execution_count": 4,
   "id": "55602bf0-128a-4f65-b1fc-1e99354f108a",
   "metadata": {},
   "outputs": [
    {
     "name": "stdout",
     "output_type": "stream",
     "text": [
      "Collecting openpyxl\n",
      "  Downloading openpyxl-3.1.5-py2.py3-none-any.whl.metadata (2.5 kB)\n",
      "Collecting et-xmlfile (from openpyxl)\n",
      "  Downloading et_xmlfile-2.0.0-py3-none-any.whl.metadata (2.7 kB)\n",
      "Downloading openpyxl-3.1.5-py2.py3-none-any.whl (250 kB)\n",
      "   ---------------------------------------- 0.0/250.9 kB ? eta -:--:--\n",
      "   ---- ----------------------------------- 30.7/250.9 kB 1.4 MB/s eta 0:00:01\n",
      "   ------------------- -------------------- 122.9/250.9 kB 1.8 MB/s eta 0:00:01\n",
      "   ------------------- -------------------- 122.9/250.9 kB 1.8 MB/s eta 0:00:01\n",
      "   ---------------------------------------- 250.9/250.9 kB 1.7 MB/s eta 0:00:00\n",
      "Downloading et_xmlfile-2.0.0-py3-none-any.whl (18 kB)\n",
      "Installing collected packages: et-xmlfile, openpyxl\n",
      "Successfully installed et-xmlfile-2.0.0 openpyxl-3.1.5\n"
     ]
    },
    {
     "name": "stderr",
     "output_type": "stream",
     "text": [
      "\n",
      "[notice] A new release of pip is available: 24.0 -> 25.1.1\n",
      "[notice] To update, run: python.exe -m pip install --upgrade pip\n"
     ]
    }
   ],
   "source": [
    "!pip install openpyxl\n"
   ]
  },
  {
   "cell_type": "code",
   "execution_count": 5,
   "id": "30dc68e3-9ff7-4074-8c4c-d7ae26ee241b",
   "metadata": {
    "scrolled": true
   },
   "outputs": [
    {
     "name": "stdout",
     "output_type": "stream",
     "text": [
      "Processing year: 2018\n",
      "Saved combined CSV for 2018\n",
      "Processing year: 2019\n",
      "Saved combined CSV for 2019\n",
      "Processing year: 2020\n",
      "Saved combined CSV for 2020\n",
      "Processing year: 2021\n",
      "Saved combined CSV for 2021\n",
      "Processing year: 2022\n",
      "Saved combined CSV for 2022\n",
      "Processing year: 2023\n",
      "Saved combined CSV for 2023\n",
      "Processing year: 2024\n",
      "Saved combined CSV for 2024\n",
      "Saved 2025 CSV file.\n"
     ]
    }
   ],
   "source": [
    "import pandas as pd\n",
    "\n",
    "# File paths for each year\n",
    "file_paths = {\n",
    "    2018: r\"C:\\Users\\Asus\\Desktop\\AIDI2ndSemester\\AI Project\\Project\\Dataset_Updated\\Dataset\\Dataset\\ttc-subway-delay-data-2018.xlsx\",\n",
    "    2019: r\"C:\\Users\\Asus\\Desktop\\AIDI2ndSemester\\AI Project\\Project\\Dataset_Updated\\Dataset\\Dataset\\ttc-subway-delay-data-2019.xlsx\",\n",
    "    2020: r\"C:\\Users\\Asus\\Desktop\\AIDI2ndSemester\\AI Project\\Project\\Dataset_Updated\\Dataset\\Dataset\\ttc-subway-delay-data-2020.xlsx\",\n",
    "    2021: r\"C:\\Users\\Asus\\Desktop\\AIDI2ndSemester\\AI Project\\Project\\Dataset_Updated\\Dataset\\Dataset\\ttc-subway-delay-data-2021.xlsx\",\n",
    "    2022: r\"C:\\Users\\Asus\\Desktop\\AIDI2ndSemester\\AI Project\\Project\\Dataset_Updated\\Dataset\\Dataset\\ttc-subway-delay-data-2022.xlsx\",\n",
    "    2023: r\"C:\\Users\\Asus\\Desktop\\AIDI2ndSemester\\AI Project\\Project\\Dataset_Updated\\Dataset\\Dataset\\ttc-subway-delay-data-2023.xlsx\",\n",
    "    2024: r\"C:\\Users\\Asus\\Desktop\\AIDI2ndSemester\\AI Project\\Project\\Dataset_Updated\\Dataset\\Dataset\\ttc-subway-delay-data-2024.xlsx\",\n",
    "}\n",
    "\n",
    "output_folder = r\"C:\\Users\\Asus\\Desktop\\AIDI2ndSemester\\AI Project\\Project\\Dataset_Updated\\Dataset\\CombinedCSV\\\\\"\n",
    "\n",
    "# Combine Excel sheets per year and save as CSV\n",
    "for year, path in file_paths.items():\n",
    "    print(f\"Processing year: {year}\")\n",
    "    xls = pd.ExcelFile(path)\n",
    "    sheets = xls.sheet_names\n",
    "    \n",
    "    df_list = [pd.read_excel(xls, sheet_name=sheet) for sheet in sheets]\n",
    "    combined_df = pd.concat(df_list, ignore_index=True)\n",
    "    \n",
    "    combined_df.to_csv(f\"{output_folder}ttc-subway-delay-data-{year}.csv\", index=False)\n",
    "    print(f\"Saved combined CSV for {year}\")\n",
    "\n",
    "# For 2025 CSV (already single sheet)\n",
    "csv_2025_path = r\"C:\\Users\\Asus\\Desktop\\AIDI2ndSemester\\AI Project\\Project\\Dataset_Updated\\Dataset\\Dataset\\TTC Subway Delay Data since 2025.csv\"\n",
    "df_2025 = pd.read_csv(csv_2025_path, encoding='utf-8-sig')\n",
    "\n",
    "df_2025.to_csv(f\"{output_folder}ttc-subway-delay-data-2025.csv\", index=False)\n",
    "print(\"Saved 2025 CSV file.\")\n"
   ]
  },
  {
   "cell_type": "code",
   "execution_count": 7,
   "id": "a20b5acb-ee5f-4fed-ab56-6a3c129000cb",
   "metadata": {},
   "outputs": [
    {
     "name": "stdout",
     "output_type": "stream",
     "text": [
      " Missing Values Summary by Year\n"
     ]
    },
    {
     "data": {
      "text/html": [
       "<div>\n",
       "<style scoped>\n",
       "    .dataframe tbody tr th:only-of-type {\n",
       "        vertical-align: middle;\n",
       "    }\n",
       "\n",
       "    .dataframe tbody tr th {\n",
       "        vertical-align: top;\n",
       "    }\n",
       "\n",
       "    .dataframe thead th {\n",
       "        text-align: right;\n",
       "    }\n",
       "</style>\n",
       "<table border=\"1\" class=\"dataframe\">\n",
       "  <thead>\n",
       "    <tr style=\"text-align: right;\">\n",
       "      <th></th>\n",
       "      <th>Bound</th>\n",
       "      <th>Code</th>\n",
       "      <th>Date</th>\n",
       "      <th>Day</th>\n",
       "      <th>Line</th>\n",
       "      <th>Min Delay</th>\n",
       "      <th>Min Gap</th>\n",
       "      <th>Station</th>\n",
       "      <th>Time</th>\n",
       "      <th>Vehicle</th>\n",
       "      <th>_id</th>\n",
       "    </tr>\n",
       "  </thead>\n",
       "  <tbody>\n",
       "    <tr>\n",
       "      <th>2018</th>\n",
       "      <td>4700</td>\n",
       "      <td>0</td>\n",
       "      <td>0</td>\n",
       "      <td>0</td>\n",
       "      <td>101</td>\n",
       "      <td>0</td>\n",
       "      <td>0</td>\n",
       "      <td>0</td>\n",
       "      <td>0</td>\n",
       "      <td>0</td>\n",
       "      <td>0</td>\n",
       "    </tr>\n",
       "    <tr>\n",
       "      <th>2019</th>\n",
       "      <td>4380</td>\n",
       "      <td>0</td>\n",
       "      <td>0</td>\n",
       "      <td>0</td>\n",
       "      <td>50</td>\n",
       "      <td>0</td>\n",
       "      <td>0</td>\n",
       "      <td>0</td>\n",
       "      <td>0</td>\n",
       "      <td>0</td>\n",
       "      <td>0</td>\n",
       "    </tr>\n",
       "    <tr>\n",
       "      <th>2020</th>\n",
       "      <td>3687</td>\n",
       "      <td>0</td>\n",
       "      <td>0</td>\n",
       "      <td>0</td>\n",
       "      <td>47</td>\n",
       "      <td>0</td>\n",
       "      <td>0</td>\n",
       "      <td>0</td>\n",
       "      <td>0</td>\n",
       "      <td>0</td>\n",
       "      <td>0</td>\n",
       "    </tr>\n",
       "    <tr>\n",
       "      <th>2021</th>\n",
       "      <td>4251</td>\n",
       "      <td>0</td>\n",
       "      <td>0</td>\n",
       "      <td>0</td>\n",
       "      <td>52</td>\n",
       "      <td>0</td>\n",
       "      <td>0</td>\n",
       "      <td>0</td>\n",
       "      <td>0</td>\n",
       "      <td>0</td>\n",
       "      <td>0</td>\n",
       "    </tr>\n",
       "    <tr>\n",
       "      <th>2022</th>\n",
       "      <td>5546</td>\n",
       "      <td>0</td>\n",
       "      <td>0</td>\n",
       "      <td>0</td>\n",
       "      <td>39</td>\n",
       "      <td>0</td>\n",
       "      <td>0</td>\n",
       "      <td>0</td>\n",
       "      <td>0</td>\n",
       "      <td>0</td>\n",
       "      <td>0</td>\n",
       "    </tr>\n",
       "    <tr>\n",
       "      <th>2023</th>\n",
       "      <td>8526</td>\n",
       "      <td>0</td>\n",
       "      <td>0</td>\n",
       "      <td>0</td>\n",
       "      <td>48</td>\n",
       "      <td>0</td>\n",
       "      <td>0</td>\n",
       "      <td>0</td>\n",
       "      <td>0</td>\n",
       "      <td>0</td>\n",
       "      <td>0</td>\n",
       "    </tr>\n",
       "    <tr>\n",
       "      <th>2024</th>\n",
       "      <td>9520</td>\n",
       "      <td>0</td>\n",
       "      <td>0</td>\n",
       "      <td>0</td>\n",
       "      <td>44</td>\n",
       "      <td>0</td>\n",
       "      <td>0</td>\n",
       "      <td>0</td>\n",
       "      <td>0</td>\n",
       "      <td>0</td>\n",
       "      <td>0</td>\n",
       "    </tr>\n",
       "    <tr>\n",
       "      <th>2025</th>\n",
       "      <td>2868</td>\n",
       "      <td>0</td>\n",
       "      <td>0</td>\n",
       "      <td>0</td>\n",
       "      <td>17</td>\n",
       "      <td>5197</td>\n",
       "      <td>5401</td>\n",
       "      <td>0</td>\n",
       "      <td>0</td>\n",
       "      <td>3350</td>\n",
       "      <td>0</td>\n",
       "    </tr>\n",
       "  </tbody>\n",
       "</table>\n",
       "</div>"
      ],
      "text/plain": [
       "      Bound  Code  Date  Day  Line  Min Delay  Min Gap  Station  Time  \\\n",
       "2018   4700     0     0    0   101          0        0        0     0   \n",
       "2019   4380     0     0    0    50          0        0        0     0   \n",
       "2020   3687     0     0    0    47          0        0        0     0   \n",
       "2021   4251     0     0    0    52          0        0        0     0   \n",
       "2022   5546     0     0    0    39          0        0        0     0   \n",
       "2023   8526     0     0    0    48          0        0        0     0   \n",
       "2024   9520     0     0    0    44          0        0        0     0   \n",
       "2025   2868     0     0    0    17       5197     5401        0     0   \n",
       "\n",
       "      Vehicle  _id  \n",
       "2018        0    0  \n",
       "2019        0    0  \n",
       "2020        0    0  \n",
       "2021        0    0  \n",
       "2022        0    0  \n",
       "2023        0    0  \n",
       "2024        0    0  \n",
       "2025     3350    0  "
      ]
     },
     "metadata": {},
     "output_type": "display_data"
    }
   ],
   "source": [
    "import pandas as pd\n",
    "import os\n",
    "\n",
    "# Directory containing all cleaned CSVs\n",
    "folder = r\"C:\\Users\\Asus\\Desktop\\AIDI2ndSemester\\AI Project\\Project\\Dataset_Updated\\Dataset\\CombinedCSV\"\n",
    "\n",
    "\n",
    "# File list and empty dictionary for summaries\n",
    "years = range(2018, 2026)\n",
    "missing_summary = {}\n",
    "\n",
    "# Loop through all years\n",
    "for year in years:\n",
    "    file_path = os.path.join(folder, f\"ttc-subway-delay-data-{year}.csv\")\n",
    "    \n",
    "    # Read CSV\n",
    "    df = pd.read_csv(file_path, encoding='utf-8-sig')\n",
    "    \n",
    "    # Clean column names (in case of invisible characters)\n",
    "    df.columns = df.columns.str.strip().str.replace('ï»¿', '', regex=False)\n",
    "    \n",
    "    # Store missing value count\n",
    "    missing_summary[year] = df.isna().sum()\n",
    "\n",
    "# Convert to DataFrame\n",
    "missing_df = pd.DataFrame(missing_summary).T.fillna(0).astype(int)\n",
    "\n",
    "# Display summary\n",
    "print(\" Missing Values Summary by Year\")\n",
    "display(missing_df)\n"
   ]
  },
  {
   "cell_type": "code",
   "execution_count": 10,
   "id": "e131e7da-d5ff-499e-a00f-3263f54d69b4",
   "metadata": {},
   "outputs": [
    {
     "name": "stdout",
     "output_type": "stream",
     "text": [
      "Cleaned 2018\n",
      "Cleaned 2019\n",
      "Cleaned 2020\n",
      "Cleaned 2021\n",
      "Cleaned 2022\n",
      "Cleaned 2023\n",
      "Cleaned 2024\n",
      "Cleaned 2025\n"
     ]
    }
   ],
   "source": [
    "import pandas as pd\n",
    "\n",
    "cleaned_dfs = []\n",
    "\n",
    "for year in range(2018, 2026):\n",
    "    df = pd.read_csv(fr\"C:\\Users\\Asus\\Desktop\\AIDI2ndSemester\\AI Project\\Project\\Dataset_Updated\\Dataset\\CombinedCSV\\ttc-subway-delay-data-{year}.csv\", encoding='utf-8-sig')\n",
    "\n",
    "    # Fix column names\n",
    "    df.columns = df.columns.str.strip().str.replace('ï»¿', '', regex=False)\n",
    "    \n",
    "    # Drop _id if present\n",
    "    if \"_id\" in df.columns:\n",
    "        df = df.drop(columns=[\"_id\"])\n",
    "    \n",
    "    # Drop rows with missing Bound or Line\n",
    "    df = df.dropna(subset=[\"Bound\", \"Line\"])\n",
    "    \n",
    "    # For 2025: impute Min Delay, Min Gap, Vehicle\n",
    "    if year == 2025:\n",
    "        if \"Min Delay\" in df.columns:\n",
    "            df[\"Min Delay\"] = df[\"Min Delay\"].fillna(0)\n",
    "        if \"Min Gap\" in df.columns:\n",
    "            df[\"Min Gap\"] = df[\"Min Gap\"].fillna(0)\n",
    "        if \"Vehicle\" in df.columns:\n",
    "            df[\"Vehicle\"] = df[\"Vehicle\"].fillna(-1)\n",
    "    \n",
    "    cleaned_dfs.append(df)\n",
    "    print(f\"Cleaned {year}\")\n"
   ]
  },
  {
   "cell_type": "code",
   "execution_count": 11,
   "id": "2fe53f48-f622-40ab-ae64-d444f12d156e",
   "metadata": {},
   "outputs": [
    {
     "name": "stdout",
     "output_type": "stream",
     "text": [
      "📊 Missing Values Summary (Post-Cleaning):\n",
      "      Bound  Code  Date  Day  Line  Min Delay  Min Gap  Station  Time  Vehicle\n",
      "Year                                                                          \n",
      "2018      0     0     0    0     0          0        0        0     0        0\n",
      "2019      0     0     0    0     0          0        0        0     0        0\n",
      "2020      0     0     0    0     0          0        0        0     0        0\n",
      "2021      0     0     0    0     0          0        0        0     0        0\n",
      "2022      0     0     0    0     0          0        0        0     0        0\n",
      "2023      0     0     0    0     0          0        0        0     0        0\n",
      "2024      0     0     0    0     0          0        0        0     0        0\n",
      "2025      0     0     0    0     0          0        0        0     0        0\n"
     ]
    }
   ],
   "source": [
    "import pandas as pd\n",
    "\n",
    "# Columns to summarize\n",
    "columns_to_check = [\"Bound\", \"Code\", \"Date\", \"Day\", \"Line\", \"Min Delay\", \"Min Gap\", \"Station\", \"Time\", \"Vehicle\"]\n",
    "\n",
    "summary = {}\n",
    "\n",
    "for year, df in zip(range(2018, 2026), cleaned_dfs):\n",
    "    missing_counts = df[columns_to_check].isna().sum()\n",
    "    summary[year] = missing_counts\n",
    "\n",
    "# Create summary DataFrame\n",
    "summary_df = pd.DataFrame(summary).T\n",
    "summary_df.index.name = \"Year\"\n",
    "print(\"📊 Missing Values Summary (Post-Cleaning):\")\n",
    "print(summary_df)\n"
   ]
  },
  {
   "cell_type": "code",
   "execution_count": 16,
   "id": "eebbea2f-96b5-4d32-a6bc-688259bc01d4",
   "metadata": {},
   "outputs": [
    {
     "name": "stdout",
     "output_type": "stream",
     "text": [
      "✅ Saved cleaned dataset for 2018 at C:/Users/Asus/Desktop/AIDI2ndSemester/AI Project/Project/Dataset_Updated/Dataset/CombinedCSV/ttc-subway-delay-data-2018-cleaned.csv\n",
      "✅ Saved cleaned dataset for 2019 at C:/Users/Asus/Desktop/AIDI2ndSemester/AI Project/Project/Dataset_Updated/Dataset/CombinedCSV/ttc-subway-delay-data-2019-cleaned.csv\n",
      "✅ Saved cleaned dataset for 2020 at C:/Users/Asus/Desktop/AIDI2ndSemester/AI Project/Project/Dataset_Updated/Dataset/CombinedCSV/ttc-subway-delay-data-2020-cleaned.csv\n",
      "✅ Saved cleaned dataset for 2021 at C:/Users/Asus/Desktop/AIDI2ndSemester/AI Project/Project/Dataset_Updated/Dataset/CombinedCSV/ttc-subway-delay-data-2021-cleaned.csv\n",
      "✅ Saved cleaned dataset for 2022 at C:/Users/Asus/Desktop/AIDI2ndSemester/AI Project/Project/Dataset_Updated/Dataset/CombinedCSV/ttc-subway-delay-data-2022-cleaned.csv\n",
      "✅ Saved cleaned dataset for 2023 at C:/Users/Asus/Desktop/AIDI2ndSemester/AI Project/Project/Dataset_Updated/Dataset/CombinedCSV/ttc-subway-delay-data-2023-cleaned.csv\n",
      "✅ Saved cleaned dataset for 2024 at C:/Users/Asus/Desktop/AIDI2ndSemester/AI Project/Project/Dataset_Updated/Dataset/CombinedCSV/ttc-subway-delay-data-2024-cleaned.csv\n",
      "✅ Saved cleaned dataset for 2025 at C:/Users/Asus/Desktop/AIDI2ndSemester/AI Project/Project/Dataset_Updated/Dataset/CombinedCSV/ttc-subway-delay-data-2025-cleaned.csv\n"
     ]
    }
   ],
   "source": [
    "output_folder = \"C:/Users/Asus/Desktop/AIDI2ndSemester/AI Project/Project/Dataset_Updated/Dataset/CombinedCSV/\"\n",
    "\n",
    "for year, df in zip(range(2018, 2026), cleaned_dfs):\n",
    "    output_path = f\"{output_folder}ttc-subway-delay-data-{year}-cleaned.csv\"\n",
    "    df.to_csv(output_path, index=False)\n",
    "    print(f\"✅ Saved cleaned dataset for {year} at {output_path}\")\n"
   ]
  },
  {
   "cell_type": "code",
   "execution_count": 17,
   "id": "78aea0e6-350a-409e-9bb9-f3e6c3328cd4",
   "metadata": {},
   "outputs": [
    {
     "name": "stdout",
     "output_type": "stream",
     "text": [
      " Merged dataset saved at C:/Users/Asus/Desktop/AIDI2ndSemester/AI Project/Project/Dataset_Updated/Dataset/MergedCSV/ttc-subway-delay-data-2018-2025-merged.csv\n"
     ]
    }
   ],
   "source": [
    "import pandas as pd\n",
    "\n",
    "# Load cleaned yearly CSV files into a list\n",
    "cleaned_dfs = []\n",
    "for year in range(2018, 2026):\n",
    "    file_path = f\"C:/Users/Asus/Desktop/AIDI2ndSemester/AI Project/Project/Dataset_Updated/Dataset/CombinedCSV/ttc-subway-delay-data-{year}-cleaned.csv\"\n",
    "    df = pd.read_csv(file_path, encoding='utf-8-sig')\n",
    "    cleaned_dfs.append(df)\n",
    "\n",
    "# Concatenate all yearly DataFrames into one\n",
    "merged_df = pd.concat(cleaned_dfs, ignore_index=True)\n",
    "\n",
    "# Save the merged dataset to MergedCSV folder\n",
    "output_path = \"C:/Users/Asus/Desktop/AIDI2ndSemester/AI Project/Project/Dataset_Updated/Dataset/MergedCSV/ttc-subway-delay-data-2018-2025-merged.csv\"\n",
    "merged_df.to_csv(output_path, index=False)\n",
    "print(f\" Merged dataset saved at {output_path}\")\n"
   ]
  },
  {
   "cell_type": "code",
   "execution_count": 18,
   "id": "bb1fa8cd-396c-4be3-bdfe-e824a360a466",
   "metadata": {},
   "outputs": [
    {
     "name": "stdout",
     "output_type": "stream",
     "text": [
      "Missing Values Summary in Merged Dataset:\n",
      "Date         0\n",
      "Time         0\n",
      "Day          0\n",
      "Station      0\n",
      "Code         0\n",
      "Min Delay    0\n",
      "Min Gap      0\n",
      "Bound        0\n",
      "Line         0\n",
      "Vehicle      0\n",
      "dtype: int64\n"
     ]
    }
   ],
   "source": [
    "import pandas as pd\n",
    "\n",
    "# Load merged dataset\n",
    "merged_path = \"C:/Users/Asus/Desktop/AIDI2ndSemester/AI Project/Project/Dataset_Updated/Dataset/MergedCSV/ttc-subway-delay-data-2018-2025-merged.csv\"\n",
    "merged_df = pd.read_csv(merged_path, encoding='utf-8-sig')\n",
    "\n",
    "# Calculate missing values per column\n",
    "missing_summary = merged_df.isnull().sum()\n",
    "\n",
    "# Display missing values summary\n",
    "print(\"Missing Values Summary in Merged Dataset:\")\n",
    "print(missing_summary)\n"
   ]
  },
  {
   "cell_type": "code",
   "execution_count": 1,
   "id": "d0a4cfd6-8ed1-455a-ab0d-5f933abddb96",
   "metadata": {},
   "outputs": [],
   "source": [
    "import pandas as pd\n",
    "\n",
    "# Specifying the file path to the merged TTC subway delay data CSV file\n",
    "file_path = \"C:/Users/Asus/Desktop/AIDI2ndSemester/AI Project/Project/Dataset_Updated/Dataset/MergedCSV/ttc-subway-delay-data-2018-2025-merged.csv\"\n",
    "\n",
    "# Reading the CSV file into a DataFrame while handling UTF-8 encoding\n",
    "df = pd.read_csv(file_path, encoding='utf-8-sig')"
   ]
  },
  {
   "cell_type": "code",
   "execution_count": 2,
   "id": "c621deaf-5bdd-4ab9-906d-24030523798b",
   "metadata": {},
   "outputs": [],
   "source": [
    "# Defining a function to categorize delay durations into Short, Medium, or Long delays\n",
    "def categorize_delay(mins):\n",
    "    if mins <= 5:\n",
    "        return 'Short'-n \n",
    "    elif mins <= 15:\n",
    "        return 'Medium'\n",
    "    else:\n",
    "        return 'Long'\n",
    "\n",
    "# Applying the delay categorization function to the 'Min Delay' column to create a new 'Delay_Category' column\n",
    "df['Delay_Category'] = df['Min Delay'].apply(categorize_delay)"
   ]
  },
  {
   "cell_type": "code",
   "execution_count": 3,
   "id": "80913a57-533c-4dc5-8a1d-86b4cfcc8579",
   "metadata": {},
   "outputs": [
    {
     "name": "stderr",
     "output_type": "stream",
     "text": [
      "C:\\Users\\Asus\\AppData\\Local\\Temp\\ipykernel_7872\\1156236837.py:2: UserWarning: Could not infer format, so each element will be parsed individually, falling back to `dateutil`. To ensure parsing is consistent and as-expected, please specify a format.\n",
      "  df['Hour'] = pd.to_datetime(df['Time'], errors='coerce').dt.hour\n"
     ]
    }
   ],
   "source": [
    "# Converting the 'Time' column to datetime, extracting the hour for each record, and handling errors gracefully\n",
    "df['Hour'] = pd.to_datetime(df['Time'], errors='coerce').dt.hour\n",
    "\n",
    "# Defining a function for categorizing the time of day based on the hour value\n",
    "def time_of_day(hour):\n",
    "    if pd.isnull(hour):\n",
    "        return 'Unknown'          # Handling missing or invalid time data\n",
    "    elif hour < 12:\n",
    "        return 'Morning'          # Assigning times before noon as Morning\n",
    "    elif hour < 18:\n",
    "        return 'Afternoon'        # Assigning times between noon and 6 PM as Afternoon\n",
    "    else:\n",
    "        return 'Evening'          # Assigning times after 6 PM as Evening\n",
    "\n",
    "# Applying the time-of-day categorization function to the 'Hour' column, creating 'Time_Category'\n",
    "df['Time_Category'] = df['Hour'].apply(time_of_day)"
   ]
  },
  {
   "cell_type": "code",
   "execution_count": 4,
   "id": "07b64a06-d3ec-4cec-b8a9-e84d792e2cc1",
   "metadata": {},
   "outputs": [],
   "source": [
    "# Converting the 'Date' column to datetime format while coercing invalid formats to NaT (missing)\n",
    "df['Date'] = pd.to_datetime(df['Date'], errors='coerce')\n",
    "\n",
    "# Creating a boolean column 'Is_Weekend' by checking if the day of the week is Saturday or Sunday\n",
    "df['Is_Weekend'] = df['Date'].dt.dayofweek >= 5"
   ]
  },
  {
   "cell_type": "code",
   "execution_count": 5,
   "id": "607a63a3-4441-46e8-86f6-b9634d239f42",
   "metadata": {},
   "outputs": [],
   "source": [
    "df.to_csv(\"C:/Users/Asus/Desktop/AIDI2ndSemester/AI Project/Project/Dataset_Updated/Dataset/MergedCSV/ttc-subway-delay-data-2018-2025-merged.csv\", index=False)\n",
    "\n"
   ]
  },
  {
   "cell_type": "code",
   "execution_count": 6,
   "id": "a523e6a1-d32c-44b2-9ef7-a466fc8bf00e",
   "metadata": {},
   "outputs": [
    {
     "data": {
      "image/png": "[encoded data removed]",
      "text/plain": [
       "<Figure size 640x480 with 1 Axes>"
      ]
     },
     "metadata": {},
     "output_type": "display_data"
    }
   ],
   "source": [
    "# Importing matplotlib and seaborn libraries for visualization\n",
    "import matplotlib.pyplot as plt\n",
    "import seaborn as sns\n",
    "\n",
    "# Plotting the distribution of delay durations using a histogram with KDE smoothing\n",
    "sns.histplot(df['Min Delay'], bins=30, kde=True)\n",
    "plt.title(\"Distribution of Delay Durations\")\n",
    "plt.xlabel(\"Delay Duration (Minutes)\")\n",
    "plt.ylabel(\"Frequency\")\n",
    "plt.show()"
   ]
  },
  {
   "cell_type": "code",
   "execution_count": 7,
   "id": "010133c7-9f88-4699-8853-d18b421b0deb",
   "metadata": {},
   "outputs": [
    {
     "name": "stderr",
     "output_type": "stream",
     "text": [
      "C:\\Users\\Asus\\AppData\\Local\\Temp\\ipykernel_7872\\851129305.py:2: FutureWarning: \n",
      "\n",
      "Passing `palette` without assigning `hue` is deprecated and will be removed in v0.14.0. Assign the `x` variable to `hue` and set `legend=False` for the same effect.\n",
      "\n",
      "  sns.countplot(x='Delay_Category', data=df, palette='Set2')\n"
     ]
    },
    {
     "data": {
      "image/png": "[encoded data removed]",
      "text/plain": [
       "<Figure size 640x480 with 1 Axes>"
      ]
     },
     "metadata": {},
     "output_type": "display_data"
    }
   ],
   "source": [
    "# Plotting counts of delay categories using a countplot with a color palette for better visuals\n",
    "sns.countplot(x='Delay_Category', data=df, palette='Set2')\n",
    "plt.title(\"Count of Delay Categories\")\n",
    "plt.show()"
   ]
  },
  {
   "cell_type": "code",
   "execution_count": 8,
   "id": "8cf11ebd-0a1c-46c6-9989-316acfbc3c46",
   "metadata": {},
   "outputs": [
    {
     "data": {
      "image/png": "[encoded data removed]",
      "text/plain": [
       "<Figure size 640x480 with 1 Axes>"
      ]
     },
     "metadata": {},
     "output_type": "display_data"
    }
   ],
   "source": [
    "# Plotting counts of delays by time of day, ordering the categories meaningfully\n",
    "sns.countplot(x='Time_Category', data=df, order=['Morning', 'Afternoon', 'Evening', 'Unknown'])\n",
    "plt.title(\"Delays by Time of Day\")\n",
    "plt.show()\n"
   ]
  },
  {
   "cell_type": "code",
   "execution_count": 9,
   "id": "0eb9582a-4473-4269-9072-dfa0dae9ec1d",
   "metadata": {},
   "outputs": [
    {
     "data": {
      "image/png": "[encoded data removed]",
      "text/plain": [
       "<Figure size 640x480 with 1 Axes>"
      ]
     },
     "metadata": {},
     "output_type": "display_data"
    }
   ],
   "source": [
    "# Identifying the top 10 stations with the most delays and plotting them as a horizontal bar chart\n",
    "top_stations = df['Station'].value_counts().head(10)\n",
    "top_stations.plot(kind='barh', color='skyblue')\n",
    "plt.title(\"Top 10 Stations by Number of Delays\")\n",
    "plt.xlabel(\"Number of Delays\")\n",
    "plt.ylabel(\"Station\")\n",
    "plt.gca().invert_yaxis()   # Inverting y-axis to show highest values on top\n",
    "plt.show()\n"
   ]
  },
  {
   "cell_type": "code",
   "execution_count": 10,
   "id": "41208190-d83f-45ac-98f2-4ad659a7a1ed",
   "metadata": {},
   "outputs": [
    {
     "data": {
      "image/png": "[encoded data removed]",
      "text/plain": [
       "<Figure size 640x480 with 1 Axes>"
      ]
     },
     "metadata": {},
     "output_type": "display_data"
    }
   ],
   "source": [
    "# Plotting delays by day of the week with the days ordered Monday through Sunday and rotating labels for clarity\n",
    "sns.countplot(x='Day', data=df, order=['Monday', 'Tuesday', 'Wednesday', 'Thursday', 'Friday', 'Saturday', 'Sunday'])\n",
    "plt.title(\"Delays by Day of the Week\")\n",
    "plt.xticks(rotation=45)\n",
    "plt.show()"
   ]
  },
  {
   "cell_type": "code",
   "execution_count": 3,
   "id": "66cc7734-e2a6-405d-828e-4b83f74bfd67",
   "metadata": {},
   "outputs": [
    {
     "data": {
      "text/html": [
       "<div>\n",
       "<style scoped>\n",
       "    .dataframe tbody tr th:only-of-type {\n",
       "        vertical-align: middle;\n",
       "    }\n",
       "\n",
       "    .dataframe tbody tr th {\n",
       "        vertical-align: top;\n",
       "    }\n",
       "\n",
       "    .dataframe thead th {\n",
       "        text-align: right;\n",
       "    }\n",
       "</style>\n",
       "<table border=\"1\" class=\"dataframe\">\n",
       "  <thead>\n",
       "    <tr style=\"text-align: right;\">\n",
       "      <th></th>\n",
       "      <th>Date</th>\n",
       "      <th>Time</th>\n",
       "      <th>Day</th>\n",
       "      <th>Station</th>\n",
       "      <th>Code</th>\n",
       "      <th>Min Delay</th>\n",
       "      <th>Min Gap</th>\n",
       "      <th>Bound</th>\n",
       "      <th>Line</th>\n",
       "      <th>Vehicle</th>\n",
       "      <th>Delay_Category</th>\n",
       "      <th>Hour</th>\n",
       "      <th>Time_Category</th>\n",
       "      <th>Is_Weekend</th>\n",
       "      <th>Month</th>\n",
       "      <th>Is_Peak_Hour</th>\n",
       "    </tr>\n",
       "  </thead>\n",
       "  <tbody>\n",
       "    <tr>\n",
       "      <th>0</th>\n",
       "      <td>2018-01-01</td>\n",
       "      <td>00:29</td>\n",
       "      <td>Monday</td>\n",
       "      <td>SHEPPARD WEST STATION</td>\n",
       "      <td>MUATC</td>\n",
       "      <td>10.0</td>\n",
       "      <td>15.0</td>\n",
       "      <td>N</td>\n",
       "      <td>YU</td>\n",
       "      <td>5986.0</td>\n",
       "      <td>Medium</td>\n",
       "      <td>0</td>\n",
       "      <td>Morning</td>\n",
       "      <td>False</td>\n",
       "      <td>1</td>\n",
       "      <td>0</td>\n",
       "    </tr>\n",
       "    <tr>\n",
       "      <th>1</th>\n",
       "      <td>2018-01-01</td>\n",
       "      <td>01:22</td>\n",
       "      <td>Monday</td>\n",
       "      <td>MUSEUM STATION</td>\n",
       "      <td>MUSC</td>\n",
       "      <td>0.0</td>\n",
       "      <td>0.0</td>\n",
       "      <td>N</td>\n",
       "      <td>YU</td>\n",
       "      <td>5751.0</td>\n",
       "      <td>Short</td>\n",
       "      <td>1</td>\n",
       "      <td>Morning</td>\n",
       "      <td>False</td>\n",
       "      <td>1</td>\n",
       "      <td>0</td>\n",
       "    </tr>\n",
       "    <tr>\n",
       "      <th>2</th>\n",
       "      <td>2018-01-01</td>\n",
       "      <td>01:39</td>\n",
       "      <td>Monday</td>\n",
       "      <td>MUSEUM STATION</td>\n",
       "      <td>MUO</td>\n",
       "      <td>6.0</td>\n",
       "      <td>11.0</td>\n",
       "      <td>S</td>\n",
       "      <td>YU</td>\n",
       "      <td>5781.0</td>\n",
       "      <td>Medium</td>\n",
       "      <td>1</td>\n",
       "      <td>Morning</td>\n",
       "      <td>False</td>\n",
       "      <td>1</td>\n",
       "      <td>0</td>\n",
       "    </tr>\n",
       "    <tr>\n",
       "      <th>3</th>\n",
       "      <td>2018-01-01</td>\n",
       "      <td>02:09</td>\n",
       "      <td>Monday</td>\n",
       "      <td>KIPLING STATION</td>\n",
       "      <td>MUSAN</td>\n",
       "      <td>3.0</td>\n",
       "      <td>7.0</td>\n",
       "      <td>E</td>\n",
       "      <td>BD</td>\n",
       "      <td>5261.0</td>\n",
       "      <td>Short</td>\n",
       "      <td>2</td>\n",
       "      <td>Morning</td>\n",
       "      <td>False</td>\n",
       "      <td>1</td>\n",
       "      <td>0</td>\n",
       "    </tr>\n",
       "    <tr>\n",
       "      <th>4</th>\n",
       "      <td>2018-01-01</td>\n",
       "      <td>02:42</td>\n",
       "      <td>Monday</td>\n",
       "      <td>COLLEGE STATION</td>\n",
       "      <td>SUDP</td>\n",
       "      <td>7.0</td>\n",
       "      <td>12.0</td>\n",
       "      <td>N</td>\n",
       "      <td>YU</td>\n",
       "      <td>5696.0</td>\n",
       "      <td>Medium</td>\n",
       "      <td>2</td>\n",
       "      <td>Morning</td>\n",
       "      <td>False</td>\n",
       "      <td>1</td>\n",
       "      <td>0</td>\n",
       "    </tr>\n",
       "  </tbody>\n",
       "</table>\n",
       "</div>"
      ],
      "text/plain": [
       "         Date   Time     Day                Station   Code  Min Delay  \\\n",
       "0  2018-01-01  00:29  Monday  SHEPPARD WEST STATION  MUATC       10.0   \n",
       "1  2018-01-01  01:22  Monday         MUSEUM STATION   MUSC        0.0   \n",
       "2  2018-01-01  01:39  Monday         MUSEUM STATION    MUO        6.0   \n",
       "3  2018-01-01  02:09  Monday        KIPLING STATION  MUSAN        3.0   \n",
       "4  2018-01-01  02:42  Monday        COLLEGE STATION   SUDP        7.0   \n",
       "\n",
       "   Min Gap Bound Line  Vehicle Delay_Category  Hour Time_Category  Is_Weekend  \\\n",
       "0     15.0     N   YU   5986.0         Medium     0       Morning       False   \n",
       "1      0.0     N   YU   5751.0          Short     1       Morning       False   \n",
       "2     11.0     S   YU   5781.0         Medium     1       Morning       False   \n",
       "3      7.0     E   BD   5261.0          Short     2       Morning       False   \n",
       "4     12.0     N   YU   5696.0         Medium     2       Morning       False   \n",
       "\n",
       "   Month  Is_Peak_Hour  \n",
       "0      1             0  \n",
       "1      1             0  \n",
       "2      1             0  \n",
       "3      1             0  \n",
       "4      1             0  "
      ]
     },
     "execution_count": 3,
     "metadata": {},
     "output_type": "execute_result"
    }
   ],
   "source": [
    "import pandas as pd\n",
    "import numpy as np\n",
    "import matplotlib.pyplot as plt\n",
    "import seaborn as sns\n",
    "\n",
    "from sklearn.model_selection import train_test_split\n",
    "from sklearn.ensemble import RandomForestClassifier\n",
    "from sklearn.linear_model import LogisticRegression\n",
    "from sklearn.metrics import accuracy_score, f1_score, classification_report, confusion_matrix\n",
    "\n",
    "# Load dataset\n",
    "file_path = \"C:/Users/Asus/Desktop/AIDI2ndSemester/AI Project/Project/Dataset_Updated/Dataset/MergedCSV/processed_delay_data.csv\"\n",
    "df = pd.read_csv(file_path)\n",
    "df.head()"
   ]
  },
  {
   "cell_type": "code",
   "execution_count": 4,
   "id": "25d86166-2d2d-45b7-87cf-460dd74a2c4e",
   "metadata": {},
   "outputs": [],
   "source": [
    "#  Preparing data for classification model – encoding target and splitting dataset\n",
    "\n",
    "from sklearn.preprocessing import LabelEncoder\n",
    "\n",
    "# Defining the input features to be used in the model\n",
    "features = ['Hour', 'Month', 'Is_Weekend', 'Is_Peak_Hour']\n",
    "X = df[features]  # Select input features\n",
    "y = df['Delay_Category']  # Define the target variable\n",
    "\n",
    "# Encoding target labels (e.g., 'Short', 'Medium', 'Long') into numerical values\n",
    "le = LabelEncoder()\n",
    "y_encoded = le.fit_transform(y)\n",
    "\n",
    "# Splitting the data into training and test sets using an 80/20 ratio\n",
    "X_train, X_test, y_train, y_test = train_test_split(X, y_encoded, test_size=0.2, random_state=42)\n",
    "\n",
    "# Summary:\n",
    "# - Target categories are encoded for model compatibility\n",
    "# - Data is split for training and evaluation purposes\n",
    "# - Sets the stage for fitting classification models like Random Forest or Logistic Regression"
   ]
  },
  {
   "cell_type": "code",
   "execution_count": 5,
   "id": "6299027d-0a9e-4a13-9589-9b95be78febd",
   "metadata": {},
   "outputs": [
    {
     "name": "stdout",
     "output_type": "stream",
     "text": [
      "Random Forest - Classification Report\n",
      "              precision    recall  f1-score   support\n",
      "\n",
      "        Long       0.00      0.00      0.00       833\n",
      "      Medium       0.33      0.00      0.00      3335\n",
      "       Short       0.80      1.00      0.89     16903\n",
      "\n",
      "    accuracy                           0.80     21071\n",
      "   macro avg       0.38      0.33      0.30     21071\n",
      "weighted avg       0.70      0.80      0.71     21071\n",
      "\n"
     ]
    }
   ],
   "source": [
    "# Training and evaluating a Random Forest classifier to predict delay categories\n",
    "\n",
    "# Initializing the Random Forest Classifier with a fixed random state for reproducibility\n",
    "rf = RandomForestClassifier(random_state=42)\n",
    "\n",
    "# Fitting the classifier on the training data\n",
    "rf.fit(X_train, y_train)\n",
    "\n",
    "# Making predictions on the test data\n",
    "y_pred_rf = rf.predict(X_test)\n",
    "\n",
    "# Printing the classification report to evaluate model performance\n",
    "# Including precision, recall, f1-score, and support for each delay category\n",
    "print(\"Random Forest - Classification Report\")\n",
    "print(classification_report(y_test, y_pred_rf, target_names=le.classes_))\n"
   ]
  },
  {
   "cell_type": "markdown",
   "id": "71a2f68f-5413-4a1a-a3c3-3b4c97806a2d",
   "metadata": {},
   "source": [
    "# Analysis:\n",
    "## Accuracy: 80%\n",
    "\n",
    "Good performance on Short, but fails to predict Medium and Long. Model suffers from class imbalance."
   ]
  },
  {
   "cell_type": "code",
   "execution_count": 6,
   "id": "1da44ea5-5cc1-4157-8c7c-4f01407dc308",
   "metadata": {},
   "outputs": [
    {
     "name": "stdout",
     "output_type": "stream",
     "text": [
      "Logistic Regression - Classification Report\n",
      "              precision    recall  f1-score   support\n",
      "\n",
      "        Long       0.00      0.00      0.00       833\n",
      "      Medium       0.00      0.00      0.00      3335\n",
      "       Short       0.80      1.00      0.89     16903\n",
      "\n",
      "    accuracy                           0.80     21071\n",
      "   macro avg       0.27      0.33      0.30     21071\n",
      "weighted avg       0.64      0.80      0.71     21071\n",
      "\n"
     ]
    },
    {
     "name": "stderr",
     "output_type": "stream",
     "text": [
      "C:\\Users\\Asus\\AppData\\Local\\Programs\\Python\\Python311\\Lib\\site-packages\\sklearn\\metrics\\_classification.py:1565: UndefinedMetricWarning: Precision is ill-defined and being set to 0.0 in labels with no predicted samples. Use `zero_division` parameter to control this behavior.\n",
      "  _warn_prf(average, modifier, f\"{metric.capitalize()} is\", len(result))\n",
      "C:\\Users\\Asus\\AppData\\Local\\Programs\\Python\\Python311\\Lib\\site-packages\\sklearn\\metrics\\_classification.py:1565: UndefinedMetricWarning: Precision is ill-defined and being set to 0.0 in labels with no predicted samples. Use `zero_division` parameter to control this behavior.\n",
      "  _warn_prf(average, modifier, f\"{metric.capitalize()} is\", len(result))\n",
      "C:\\Users\\Asus\\AppData\\Local\\Programs\\Python\\Python311\\Lib\\site-packages\\sklearn\\metrics\\_classification.py:1565: UndefinedMetricWarning: Precision is ill-defined and being set to 0.0 in labels with no predicted samples. Use `zero_division` parameter to control this behavior.\n",
      "  _warn_prf(average, modifier, f\"{metric.capitalize()} is\", len(result))\n"
     ]
    }
   ],
   "source": [
    "# Training and evaluating a Logistic Regression model to classify delay categories\n",
    "\n",
    "# Initializing the Logistic Regression model with an increased maximum iteration limit to ensure convergence\n",
    "lr = LogisticRegression(max_iter=1000)\n",
    "\n",
    "# Fitting the model on the training dataset\n",
    "lr.fit(X_train, y_train)\n",
    "\n",
    "# Making predictions on the test dataset\n",
    "y_pred_lr = lr.predict(X_test)\n",
    "\n",
    "# Printing the classification report for Logistic Regression\n",
    "# Showing how well the model is performing across all delay categories\n",
    "print(\"Logistic Regression - Classification Report\")\n",
    "print(classification_report(y_test, y_pred_lr, target_names=le.classes_))\n"
   ]
  },
  {
   "cell_type": "code",
   "execution_count": 7,
   "id": "0c56195c-a71d-4993-afef-b319f6268422",
   "metadata": {},
   "outputs": [
    {
     "data": {
      "image/png": "[encoded data removed]",
      "text/plain": [
       "<Figure size 1200x500 with 4 Axes>"
      ]
     },
     "metadata": {},
     "output_type": "display_data"
    }
   ],
   "source": [
    "# Creating a side-by-side plot layout for visualizing the confusion matrices of both models\n",
    "fig, axes = plt.subplots(1, 2, figsize=(12, 5))\n",
    "\n",
    "# Plotting the confusion matrix for the Random Forest model\n",
    "sns.heatmap(confusion_matrix(y_test, y_pred_rf), annot=True, fmt='d',\n",
    "            xticklabels=le.classes_, yticklabels=le.classes_, ax=axes[0], cmap='Blues')\n",
    "axes[0].set_title(\"Random Forest\")          # Setting the title\n",
    "axes[0].set_xlabel(\"Predicted\")             # Labeling x-axis as Predicted\n",
    "axes[0].set_ylabel(\"Actual\")                # Labeling y-axis as Actual\n",
    "\n",
    "# Plotting the confusion matrix for the Logistic Regression model\n",
    "sns.heatmap(confusion_matrix(y_test, y_pred_lr), annot=True, fmt='d',\n",
    "            xticklabels=le.classes_, yticklabels=le.classes_, ax=axes[1], cmap='Greens')\n",
    "axes[1].set_title(\"Logistic Regression\")    # Setting the title\n",
    "axes[1].set_xlabel(\"Predicted\")             # Labeling x-axis as Predicted\n",
    "axes[1].set_ylabel(\"Actual\")                # Labeling y-axis as Actual\n",
    "\n",
    "# Adjusting layout to prevent overlap and ensure a clean look\n",
    "plt.tight_layout()\n",
    "\n",
    "# Displaying the final plot with both heatmaps\n",
    "plt.show()\n"
   ]
  },
  {
   "cell_type": "markdown",
   "id": "d9189c05-4834-44aa-9801-5867a2f6f300",
   "metadata": {},
   "source": [
    "#### Using confusion matrices to:\n",
    "\n",
    "Visualize how the models (Random Forest & Logistic Regression) perform on “Short”, “Medium”, and “Long” categories.\n",
    "\n",
    "Realize that both models are only predicting “Short”, revealing a class imbalance problem.\n",
    "\n",
    "#### Analysis:\n",
    "\n",
    " Both models produce confusion matrices where nearly all predictions are “Short”.\n",
    " \n",
    "“Medium” and “Long” classes are not correctly predicted at all."
   ]
  },
  {
   "cell_type": "code",
   "execution_count": 8,
   "id": "d4b4b102-5273-4461-aea8-7949014c0613",
   "metadata": {},
   "outputs": [
    {
     "data": {
      "image/png": "[encoded data removed]",
      "text/plain": [
       "<Figure size 640x480 with 1 Axes>"
      ]
     },
     "metadata": {},
     "output_type": "display_data"
    }
   ],
   "source": [
    "# Extracting feature importance scores from the trained Random Forest model\n",
    "importances = rf.feature_importances_\n",
    "\n",
    "# Creating a horizontal barplot to visualize the importance of each feature\n",
    "sns.barplot(x=importances, y=X.columns)\n",
    "\n",
    "# Setting the title of the plot\n",
    "plt.title(\"Feature Importance (Random Forest)\")\n",
    "\n",
    "# Displaying the feature importance plot\n",
    "plt.show()\n"
   ]
  },
  {
   "cell_type": "markdown",
   "id": "a67cc1e9-5484-493b-8372-15518a0960c1",
   "metadata": {},
   "source": [
    "#### Analysis:\n",
    "\n",
    "Hour and Month are most important; Is_Peak_Hour has least influence in this model.\n",
    "\n"
   ]
  },
  {
   "cell_type": "markdown",
   "id": "7c4a6909-6472-4038-9b72-e75326bc2ed5",
   "metadata": {},
   "source": [
    "### Observations\n",
    " \n",
    "- Dataset is imbalanced: majority delays are \"Short\"\n",
    "- Models perform well on dominant class but poorly on others\n",
    "- Need to apply class balancing (e.g., SMOTE or class_weight)\n",
    "- Feature importance suggests Hour & Month are predictive"
   ]
  },
  {
   "cell_type": "code",
   "execution_count": 4,
   "id": "ee63cfe6-ecae-47aa-b90e-7c7ceaa749c7",
   "metadata": {},
   "outputs": [],
   "source": [
    "import pandas as pd\n",
    "file_path = \"C:/Users/Asus/Desktop/AIDI2ndSemester/AI Project/Project/Dataset_Updated/Dataset/MergedCSV/processed_delay_data.csv\"\n",
    "df = pd.read_csv(file_path)"
   ]
  },
  {
   "cell_type": "code",
   "execution_count": 5,
   "id": "46609373-1f1b-4840-ae35-331a91f65b28",
   "metadata": {},
   "outputs": [],
   "source": [
    "# Preparing and Splitting Data for Classification Model\n",
    "\n",
    "# Importing necessary modules for splitting the dataset and encoding labels\n",
    "from sklearn.model_selection import train_test_split\n",
    "from sklearn.preprocessing import LabelEncoder\n",
    "\n",
    "# Defining the input features for training the model\n",
    "features = ['Hour', 'Month', 'Is_Weekend', 'Is_Peak_Hour']\n",
    "X = df[features]\n",
    "\n",
    "# Selecting the target variable for classification\n",
    "y = df['Delay_Category']\n",
    "\n",
    "# Encoding the categorical target variable into numerical values\n",
    "le = LabelEncoder()\n",
    "y_encoded = le.fit_transform(y)\n",
    "\n",
    "# Splitting the dataset into training and testing sets (80% training, 20% testing)\n",
    "X_train, X_test, y_train, y_test = train_test_split(X, y_encoded, test_size=0.2, random_state=42)\n"
   ]
  },
  {
   "cell_type": "markdown",
   "id": "ebf1e658-67fb-4604-a074-782595438524",
   "metadata": {},
   "source": [
    "## SMOTE"
   ]
  },
  {
   "cell_type": "code",
   "execution_count": 7,
   "id": "8c82cebe-825a-4deb-b90a-d970e38b13be",
   "metadata": {},
   "outputs": [
    {
     "name": "stdout",
     "output_type": "stream",
     "text": [
      "Collecting imbalanced-learn\n",
      "  Downloading imbalanced_learn-0.13.0-py3-none-any.whl.metadata (8.8 kB)\n",
      "Requirement already satisfied: numpy<3,>=1.24.3 in c:\\users\\asus\\appdata\\local\\programs\\python\\python311\\lib\\site-packages (from imbalanced-learn) (2.1.3)\n",
      "Requirement already satisfied: scipy<2,>=1.10.1 in c:\\users\\asus\\appdata\\local\\programs\\python\\python311\\lib\\site-packages (from imbalanced-learn) (1.15.2)\n",
      "Requirement already satisfied: scikit-learn<2,>=1.3.2 in c:\\users\\asus\\appdata\\local\\programs\\python\\python311\\lib\\site-packages (from imbalanced-learn) (1.6.1)\n",
      "Collecting sklearn-compat<1,>=0.1 (from imbalanced-learn)\n",
      "  Downloading sklearn_compat-0.1.3-py3-none-any.whl.metadata (18 kB)\n",
      "Requirement already satisfied: joblib<2,>=1.1.1 in c:\\users\\asus\\appdata\\local\\programs\\python\\python311\\lib\\site-packages (from imbalanced-learn) (1.4.2)\n",
      "Requirement already satisfied: threadpoolctl<4,>=2.0.0 in c:\\users\\asus\\appdata\\local\\programs\\python\\python311\\lib\\site-packages (from imbalanced-learn) (3.6.0)\n",
      "Downloading imbalanced_learn-0.13.0-py3-none-any.whl (238 kB)\n",
      "   ---------------------------------------- 0.0/238.4 kB ? eta -:--:--\n",
      "   ------ -------------------------------- 41.0/238.4 kB 991.0 kB/s eta 0:00:01\n",
      "   ---------------------------------------  235.5/238.4 kB 2.9 MB/s eta 0:00:01\n",
      "   ---------------------------------------  235.5/238.4 kB 2.9 MB/s eta 0:00:01\n",
      "   ---------------------------------------  235.5/238.4 kB 2.9 MB/s eta 0:00:01\n",
      "   ---------------------------------------- 238.4/238.4 kB 1.1 MB/s eta 0:00:00\n",
      "Downloading sklearn_compat-0.1.3-py3-none-any.whl (18 kB)\n",
      "Installing collected packages: sklearn-compat, imbalanced-learn\n",
      "Successfully installed imbalanced-learn-0.13.0 sklearn-compat-0.1.3\n"
     ]
    },
    {
     "name": "stderr",
     "output_type": "stream",
     "text": [
      "\n",
      "[notice] A new release of pip is available: 24.0 -> 25.1.1\n",
      "[notice] To update, run: python.exe -m pip install --upgrade pip\n"
     ]
    }
   ],
   "source": [
    "!pip install imbalanced-learn\n"
   ]
  },
  {
   "cell_type": "code",
   "execution_count": 8,
   "id": "56686de2-f36e-4f7c-9c8c-74258faa28b8",
   "metadata": {},
   "outputs": [],
   "source": [
    "# Balancing Training Data Using SMOTE (Synthetic Minority Over-sampling Technique)\n",
    "\n",
    "# Importing the SMOTE class to handle class imbalance in the training set\n",
    "from imblearn.over_sampling import SMOTE\n",
    "\n",
    "# Creating an instance of SMOTE with a fixed random state for reproducibility\n",
    "sm = SMOTE(random_state=42)\n",
    "\n",
    "# Fitting SMOTE on the training data and generating a balanced dataset\n",
    "X_resampled, y_resampled = sm.fit_resample(X_train, y_train)\n"
   ]
  },
  {
   "cell_type": "code",
   "execution_count": 9,
   "id": "e31c0bd6-5552-4ba1-835f-abc5f7e646dd",
   "metadata": {},
   "outputs": [
    {
     "name": "stdout",
     "output_type": "stream",
     "text": [
      "Before SMOTE: Counter({np.int64(2): 67643, np.int64(1): 13326, np.int64(0): 3314})\n",
      "After SMOTE: Counter({np.int64(2): 67643, np.int64(1): 67643, np.int64(0): 67643})\n"
     ]
    }
   ],
   "source": [
    "# Checking Class Distribution Before and After Applying SMOTE\n",
    "\n",
    "# Importing the collections module to count class instances\n",
    "import collections\n",
    "\n",
    "# Printing class distribution before applying SMOTE\n",
    "print(\"Before SMOTE:\", collections.Counter(y_train))\n",
    "\n",
    "# Printing class distribution after applying SMOTE\n",
    "print(\"After SMOTE:\", collections.Counter(y_resampled))"
   ]
  },
  {
   "cell_type": "markdown",
   "id": "9b38bec3-7a8f-4611-9939-6566266b0410",
   "metadata": {},
   "source": [
    "Analysis:\n",
    "\n",
    "The data was highly imbalanced before SMOTE, which can cause the model to ignore minority classes. After SMOTE balancing, the model gets enough samples from each class, helping it learn better and make more accurate predictions across all classes.\n"
   ]
  },
  {
   "cell_type": "markdown",
   "id": "a0f8d2b5-a780-40d0-b568-841f66a0e4ea",
   "metadata": {},
   "source": [
    "### After SMOTE, We tested Random Forest, Logistic Regression, and XGBoost, then fine-tuned XGBoost using GridSearchCV."
   ]
  },
  {
   "cell_type": "code",
   "execution_count": 10,
   "id": "371e4ac9-720f-43bd-8e15-f74ce1147bee",
   "metadata": {},
   "outputs": [
    {
     "name": "stdout",
     "output_type": "stream",
     "text": [
      "Random Forest (SMOTE) - Classification Report\n",
      "              precision    recall  f1-score   support\n",
      "\n",
      "        Long       0.04      0.43      0.08       833\n",
      "      Medium       0.18      0.29      0.22      3335\n",
      "       Short       0.83      0.37      0.51     16903\n",
      "\n",
      "    accuracy                           0.36     21071\n",
      "   macro avg       0.35      0.36      0.27     21071\n",
      "weighted avg       0.70      0.36      0.45     21071\n",
      "\n"
     ]
    }
   ],
   "source": [
    "# Training Random Forest on SMOTE-Resampled Data and Evaluating Performance\n",
    "\n",
    "# Importing RandomForest classifier and evaluation metrics\n",
    "from sklearn.ensemble import RandomForestClassifier\n",
    "from sklearn.metrics import classification_report, confusion_matrix\n",
    "import seaborn as sns\n",
    "import matplotlib.pyplot as plt\n",
    "\n",
    "# Creating and training the Random Forest model on the balanced dataset\n",
    "rf_smote = RandomForestClassifier(random_state=42)\n",
    "rf_smote.fit(X_resampled, y_resampled)\n",
    "\n",
    "# Predicting labels for the test set\n",
    "y_pred_rf_smote = rf_smote.predict(X_test)\n",
    "\n",
    "# Printing the classification report to evaluate model performance\n",
    "print(\"Random Forest (SMOTE) - Classification Report\")\n",
    "print(classification_report(y_test, y_pred_rf_smote, target_names=le.classes_))\n"
   ]
  },
  {
   "cell_type": "code",
   "execution_count": 11,
   "id": "24d47cce-cbc2-44bc-aaf1-cea14e8c53ca",
   "metadata": {},
   "outputs": [
    {
     "name": "stdout",
     "output_type": "stream",
     "text": [
      "Logistic Regression (SMOTE) - Classification Report\n",
      "              precision    recall  f1-score   support\n",
      "\n",
      "        Long       0.04      0.38      0.07       833\n",
      "      Medium       0.18      0.27      0.21      3335\n",
      "       Short       0.81      0.40      0.54     16903\n",
      "\n",
      "    accuracy                           0.38     21071\n",
      "   macro avg       0.34      0.35      0.28     21071\n",
      "weighted avg       0.68      0.38      0.47     21071\n",
      "\n"
     ]
    }
   ],
   "source": [
    "# Training Logistic Regression on SMOTE-Resampled Data and Evaluating Performance\n",
    "\n",
    "# Importing Logistic Regression classifier\n",
    "from sklearn.linear_model import LogisticRegression\n",
    "\n",
    "# Creating and training the Logistic Regression model on the balanced dataset\n",
    "lr_smote = LogisticRegression(max_iter=1000)\n",
    "lr_smote.fit(X_resampled, y_resampled)\n",
    "\n",
    "# Predicting labels for the test set\n",
    "y_pred_lr_smote = lr_smote.predict(X_test)\n",
    "\n",
    "# Printing the classification report to evaluate model performance\n",
    "print(\"Logistic Regression (SMOTE) - Classification Report\")\n",
    "print(classification_report(y_test, y_pred_lr_smote, target_names=le.classes_))\n"
   ]
  },
  {
   "cell_type": "markdown",
   "id": "1e91c8a4-156a-4496-8b1f-88a71e4e30ab",
   "metadata": {},
   "source": [
    "### Analysis:\n",
    "\n",
    "Models are finally predicting Long and Medium categories (previously 0% recall).\n",
    "\n",
    "Recall for minority classes (Long/Medium) has improved significantly.\n",
    "\n",
    "\n",
    "### What Still Needs Work\n",
    "\n",
    "Overall accuracy dropped (as expected with SMOTE).\n",
    "\n",
    "Still low precision for minority classes — especially Long.\n",
    "\n",
    "Models are still biased toward Short, though less than before."
   ]
  },
  {
   "cell_type": "markdown",
   "id": "3f1c6c2a-383d-496b-b27c-8efb459761c9",
   "metadata": {},
   "source": [
    "## Trying XGBoost "
   ]
  },
  {
   "cell_type": "code",
   "execution_count": 11,
   "id": "b3e3be10-25ff-4e42-a1d1-652724b2fbfc",
   "metadata": {},
   "outputs": [
    {
     "name": "stdout",
     "output_type": "stream",
     "text": [
      "Requirement already satisfied: xgboost in c:\\users\\asus\\appdata\\local\\programs\\python\\python311\\lib\\site-packages (3.0.0)\n",
      "Requirement already satisfied: numpy in c:\\users\\asus\\appdata\\local\\programs\\python\\python311\\lib\\site-packages (from xgboost) (2.1.3)\n",
      "Requirement already satisfied: scipy in c:\\users\\asus\\appdata\\local\\programs\\python\\python311\\lib\\site-packages (from xgboost) (1.15.2)\n"
     ]
    },
    {
     "name": "stderr",
     "output_type": "stream",
     "text": [
      "\n",
      "[notice] A new release of pip is available: 24.0 -> 25.1.1\n",
      "[notice] To update, run: python.exe -m pip install --upgrade pip\n"
     ]
    }
   ],
   "source": [
    "!pip install xgboost\n"
   ]
  },
  {
   "cell_type": "code",
   "execution_count": 13,
   "id": "a8172f47-5c4c-4339-ac43-c5e2db799615",
   "metadata": {},
   "outputs": [
    {
     "name": "stdout",
     "output_type": "stream",
     "text": [
      "XGBoost (SMOTE) - Classification Report\n",
      "              precision    recall  f1-score   support\n",
      "\n",
      "        Long       0.19      0.44      0.27       833\n",
      "      Medium       0.31      0.48      0.38      3335\n",
      "       Short       0.90      0.75      0.82     16903\n",
      "\n",
      "    accuracy                           0.70     21071\n",
      "   macro avg       0.47      0.56      0.49     21071\n",
      "weighted avg       0.78      0.70      0.73     21071\n",
      "\n"
     ]
    }
   ],
   "source": [
    "# Training XGBoost Classifier on SMOTE-Resampled Data and Evaluating Performance\n",
    "\n",
    "import warnings\n",
    "warnings.filterwarnings('ignore')  # Suppressing all warnings (use cautiously!)\n",
    "\n",
    "from xgboost import XGBClassifier\n",
    "from sklearn.metrics import classification_report\n",
    "\n",
    "# Initializing the XGBoost classifier with recommended parameters\n",
    "xgb = XGBClassifier(random_state=42, use_label_encoder=False, eval_metric='mlogloss')\n",
    "\n",
    "# Training the classifier on the balanced (SMOTE) training data\n",
    "xgb.fit(X_resampled, y_resampled)\n",
    "\n",
    "# Predicting the labels for the original test dataset\n",
    "y_pred_xgb = xgb.predict(X_test)\n",
    "\n",
    "# Printing the classification report to assess model performance\n",
    "print(\"XGBoost (SMOTE) - Classification Report\")\n",
    "print(classification_report(y_test, y_pred_xgb, target_names=le.classes_))\n"
   ]
  },
  {
   "cell_type": "markdown",
   "id": "a2417a6b-321f-4451-ae97-5c2d321c3b75",
   "metadata": {},
   "source": [
    "As for the classification report, it looks quite similar to your Random Forest and Logistic Regression models after SMOTE, with some improvements in recall for the minority classes but still not great overall performance on Long and Medium delays."
   ]
  },
  {
   "cell_type": "markdown",
   "id": "a3b964df-84ac-41b7-be09-15a25c0d6428",
   "metadata": {},
   "source": [
    "## Trying Hyperparameter tuning on XGBoost\n",
    "Because Tuning is a way to try to improve the model’s performance before giving up. If after thorough tuning XGBoost still doesn’t perform well, then we'll have to revisit data preparation or consider alternative approaches."
   ]
  },
  {
   "cell_type": "code",
   "execution_count": 14,
   "id": "5216e8fa-daa8-4b0b-8263-012ea2aa1bd9",
   "metadata": {},
   "outputs": [
    {
     "name": "stdout",
     "output_type": "stream",
     "text": [
      "Fitting 3 folds for each of 30 candidates, totalling 90 fits\n",
      "Best parameters found:  {'subsample': 0.8, 'n_estimators': 300, 'min_child_weight': 5, 'max_depth': 10, 'learning_rate': 0.1, 'gamma': 0.1, 'colsample_bytree': 0.8}\n",
      "Best f1_macro score:  0.4211374156224082\n",
      "Classification report for best XGBoost model:\n",
      "              precision    recall  f1-score   support\n",
      "\n",
      "        Long       0.04      0.41      0.08       833\n",
      "      Medium       0.18      0.29      0.22      3335\n",
      "       Short       0.83      0.39      0.54     16903\n",
      "\n",
      "    accuracy                           0.38     21071\n",
      "   macro avg       0.35      0.36      0.28     21071\n",
      "weighted avg       0.70      0.38      0.47     21071\n",
      "\n"
     ]
    }
   ],
   "source": [
    "# Performing Hyperparameter Tuning on XGBoost Using RandomizedSearchCV and Evaluating Best Model\n",
    "\n",
    "# Importing required modules for randomized search and evaluation\n",
    "from sklearn.model_selection import RandomizedSearchCV\n",
    "import xgboost as xgb\n",
    "from sklearn.metrics import classification_report\n",
    "\n",
    "# Defining the base XGBClassifier with multiclass objective and evaluation metric\n",
    "xgb_model = xgb.XGBClassifier(\n",
    "    objective='multi:softprob',\n",
    "    num_class=3,\n",
    "    eval_metric='mlogloss',\n",
    "    use_label_encoder=False,\n",
    "    random_state=42\n",
    ")\n",
    "\n",
    "# Defining the hyperparameter grid to sample from during tuning\n",
    "param_dist = {\n",
    "    'n_estimators': [50, 100, 200, 300],\n",
    "    'max_depth': [3, 5, 7, 10],\n",
    "    'learning_rate': [0.01, 0.05, 0.1, 0.2],\n",
    "    'subsample': [0.6, 0.8, 1.0],\n",
    "    'colsample_bytree': [0.6, 0.8, 1.0],\n",
    "    'gamma': [0, 0.1, 0.2],\n",
    "    'min_child_weight': [1, 3, 5]\n",
    "}\n",
    "\n",
    "# Setting up RandomizedSearchCV for hyperparameter tuning with 3-fold CV and macro F1 scoring\n",
    "random_search = RandomizedSearchCV(\n",
    "    estimator=xgb_model,\n",
    "    param_distributions=param_dist,\n",
    "    n_iter=30,             # Sampling 30 random parameter combinations\n",
    "    scoring='f1_macro',    # Using balanced F1 score for multiclass classification\n",
    "    cv=3,                  # Applying 3-fold cross-validation\n",
    "    verbose=2,             # Showing detailed progress logs\n",
    "    random_state=42,\n",
    "    n_jobs=-1              # Using all CPU cores for faster execution\n",
    ")\n",
    "\n",
    "# Fitting RandomizedSearchCV on the SMOTE-resampled training data\n",
    "random_search.fit(X_resampled, y_resampled)\n",
    "\n",
    "# Printing the best hyperparameters found and corresponding score\n",
    "print(\"Best parameters found: \", random_search.best_params_)\n",
    "print(\"Best f1_macro score: \", random_search.best_score_)\n",
    "\n",
    "# Using the best estimator from the search to predict on the test set\n",
    "best_xgb = random_search.best_estimator_\n",
    "y_pred_best = best_xgb.predict(X_test)\n",
    "\n",
    "# Printing classification report to evaluate the best model's performance\n",
    "print(\"Classification report for best XGBoost model:\")\n",
    "print(classification_report(y_test, y_pred_best, target_names=le.classes_))\n"
   ]
  },
  {
   "cell_type": "markdown",
   "id": "e59f0fa6-84e5-4b45-a03c-05d3c5086fc1",
   "metadata": {},
   "source": [
    "### Hyperparameter Tuning – Analysis\n",
    "\n",
    "We used GridSearchCV to test 30 different settings for XGBoost and picked the one that performed best.\n",
    "\n",
    "The best combination of settings gave us a slightly better validation score (f1_macro: 0.42).\n",
    "\n",
    "But when we tested the tuned model on real data, the results were still not great.\n",
    "\n",
    "### Test Results\n",
    "\n",
    "The model is still mostly predicting \"Short\" delays.\n",
    "\n",
    "It finds it hard to correctly predict \"Long\" or \"Medium\" delays.\n",
    "\n",
    "Accuracy stayed low (38%), and most correct predictions are from the majority class."
   ]
  },
  {
   "cell_type": "markdown",
   "id": "446e9cc9-6612-4b0b-bd00-00e17e4e7086",
   "metadata": {},
   "source": [
    "### Conclusion of this week\n",
    "\n",
    "Although tuning improved the f1_macro score slightly, the model still struggles with accurately predicting Long and Medium delays.\n",
    "\n",
    "We realized that model performance is limited by the features currently being used.\n",
    "\n",
    "### Braintorming further steps:\n",
    "\n",
    "The features we used so far (Hour, Month, Weekend, Peak Hour) might not be enough to really explain why delays happen.\n",
    "\n",
    "Delay reasons can depend on many other things, like:\n",
    "\n",
    "- The actual reason for the delay (e.g., mechanical issue, weather, emergency)\n",
    "\n",
    "- Where the delay happened (which station or route)\n",
    "\n",
    "- Weather conditions or special events (like sports games or festivals)\n",
    "\n",
    "\n",
    "Maybe. we'll have to revisit data preparation or consider alternative approaches.\n",
    "\n"
   ]
  },
  {
   "cell_type": "markdown",
   "id": "c218ccbc-1874-4089-a172-a207f5878417",
   "metadata": {},
   "source": [
    "Week 7"
   ]
  },
  {
   "cell_type": "markdown",
   "id": "93ec82b0-273b-48b1-b8cd-4da516a65ae5",
   "metadata": {},
   "source": [
    "### Load and Prepare the Data"
   ]
  },
  {
   "cell_type": "code",
   "execution_count": 1,
   "id": "562c4b9d-dc5a-43ed-82aa-b268a95ac114",
   "metadata": {},
   "outputs": [],
   "source": [
    "import pandas as pd\n",
    "\n",
    "# Load the dataset\n",
    "file_path = \"C:/Users/Asus/Desktop/AIDI2ndSemester/AI Project/Project/Dataset_Updated/Dataset/MergedCSV/processed_delay_data.csv\"\n",
    "df = pd.read_csv(file_path)\n",
    "\n",
    "# Fill NA if needed (some models can't handle NaN)\n",
    "df.fillna('Unknown', inplace=True)\n",
    "\n",
    "# Define features (expanded)\n",
    "features = ['Hour', 'Month', 'Is_Weekend', 'Is_Peak_Hour', 'Station', 'Line', 'Code']\n",
    "X = df[features]\n",
    "y = df['Delay_Category']\n",
    "\n",
    "# Encode target\n",
    "from sklearn.preprocessing import LabelEncoder\n",
    "le = LabelEncoder()\n",
    "y_encoded = le.fit_transform(y)\n"
   ]
  },
  {
   "cell_type": "markdown",
   "id": "43d4f48c-5892-48dc-bd89-9bc16896525f",
   "metadata": {},
   "source": [
    "### Encoding Categorical Variables"
   ]
  },
  {
   "cell_type": "code",
   "execution_count": 3,
   "id": "37d061a9-9d1f-4975-9a0c-34b9c7cf687f",
   "metadata": {},
   "outputs": [],
   "source": [
    "# One-hot encoding categorical features\n",
    "X_encoded = pd.get_dummies(X, columns=['Station', 'Line', 'Code'], drop_first=True)\n"
   ]
  },
  {
   "cell_type": "markdown",
   "id": "5c2e8326-409c-4e93-b48c-526f87041934",
   "metadata": {},
   "source": [
    "### Train-Test Split and SMOTE"
   ]
  },
  {
   "cell_type": "code",
   "execution_count": 5,
   "id": "084cc2dc-292f-4070-8ccb-ea3636918866",
   "metadata": {},
   "outputs": [],
   "source": [
    "from sklearn.model_selection import train_test_split\n",
    "from imblearn.over_sampling import SMOTE\n",
    "\n",
    "# Split data\n",
    "X_train, X_test, y_train, y_test = train_test_split(X_encoded, y_encoded, test_size=0.2, random_state=42)\n",
    "\n",
    "# Apply SMOTE\n",
    "sm = SMOTE(random_state=42)\n",
    "X_resampled, y_resampled = sm.fit_resample(X_train, y_train)\n"
   ]
  },
  {
   "cell_type": "markdown",
   "id": "11c44617-ccdf-4481-85f0-6f81481cf91e",
   "metadata": {},
   "source": [
    "### Train & Evaluate Models\n",
    "#### Random Forest"
   ]
  },
  {
   "cell_type": "code",
   "execution_count": 6,
   "id": "d3faaaeb-7070-4d4f-8dcc-2d26cf81d4cb",
   "metadata": {},
   "outputs": [
    {
     "name": "stdout",
     "output_type": "stream",
     "text": [
      "Random Forest - Classification Report\n",
      "              precision    recall  f1-score   support\n",
      "\n",
      "        Long       0.25      0.21      0.23       833\n",
      "      Medium       0.31      0.37      0.34      3335\n",
      "       Short       0.87      0.84      0.85     16903\n",
      "\n",
      "    accuracy                           0.74     21071\n",
      "   macro avg       0.48      0.47      0.47     21071\n",
      "weighted avg       0.75      0.74      0.75     21071\n",
      "\n"
     ]
    }
   ],
   "source": [
    "from sklearn.ensemble import RandomForestClassifier\n",
    "from sklearn.metrics import classification_report\n",
    "\n",
    "rf = RandomForestClassifier(random_state=42)\n",
    "rf.fit(X_resampled, y_resampled)\n",
    "y_pred_rf = rf.predict(X_test)\n",
    "\n",
    "print(\"Random Forest - Classification Report\")\n",
    "print(classification_report(y_test, y_pred_rf, target_names=le.classes_))\n"
   ]
  },
  {
   "cell_type": "markdown",
   "id": "dbc553c1-4bc6-4b14-8831-2ba9d1b034cd",
   "metadata": {},
   "source": [
    "Analysis:\n",
    "\n",
    "Gave balanced performance across all delay types.\n",
    "\n",
    "Achieved decent recall and F1-score for Medium and Long delays."
   ]
  },
  {
   "cell_type": "markdown",
   "id": "2cb0785e-9dec-4fcb-97ee-2c07695e852c",
   "metadata": {},
   "source": [
    "#### XGBoost"
   ]
  },
  {
   "cell_type": "code",
   "execution_count": 9,
   "id": "cc44670c-d7ec-42c0-b297-92a01fc2e1d8",
   "metadata": {},
   "outputs": [],
   "source": [
    "# Remove or replace problematic characters from column names\n",
    "X_resampled.columns = X_resampled.columns.str.replace('[\\[\\]<>]', '', regex=True)\n",
    "X_test.columns = X_test.columns.str.replace('[\\[\\]<>]', '', regex=True)\n"
   ]
  },
  {
   "cell_type": "code",
   "execution_count": 14,
   "id": "cb1ac76c-bd2f-4203-b572-3dbd38764d37",
   "metadata": {},
   "outputs": [
    {
     "name": "stdout",
     "output_type": "stream",
     "text": [
      "XGBoost - Classification Report\n",
      "              precision    recall  f1-score   support\n",
      "\n",
      "        Long       0.19      0.44      0.27       833\n",
      "      Medium       0.31      0.48      0.38      3335\n",
      "       Short       0.90      0.75      0.82     16903\n",
      "\n",
      "    accuracy                           0.70     21071\n",
      "   macro avg       0.47      0.56      0.49     21071\n",
      "weighted avg       0.78      0.70      0.73     21071\n",
      "\n"
     ]
    }
   ],
   "source": [
    "xgb = XGBClassifier(use_label_encoder=False, eval_metric='mlogloss', random_state=42)\n",
    "xgb.fit(X_resampled, y_resampled)\n",
    "y_pred_xgb = xgb.predict(X_test)\n",
    "\n",
    "print(\"XGBoost - Classification Report\")\n",
    "print(classification_report(y_test, y_pred_xgb, target_names=le.classes_))\n"
   ]
  },
  {
   "cell_type": "markdown",
   "id": "6f31f8d2-4c68-4bf4-b5b6-0c2e26ad63fe",
   "metadata": {},
   "source": [
    "Analysis:\n",
    "\n",
    "Strongest model for identifying Long and Medium delays.\n",
    "\n",
    "More balanced recall across all classes."
   ]
  },
  {
   "cell_type": "markdown",
   "id": "98cc8238-fef2-4421-ae0e-57aeeade8f47",
   "metadata": {},
   "source": [
    "#### Logistic Regression"
   ]
  },
  {
   "cell_type": "code",
   "execution_count": 16,
   "id": "893cccce-0b75-4e39-8bae-9015db09ad44",
   "metadata": {},
   "outputs": [
    {
     "name": "stdout",
     "output_type": "stream",
     "text": [
      "Logistic Regression - Classification Report\n",
      "              precision    recall  f1-score   support\n",
      "\n",
      "        Long       0.39      0.21      0.28       833\n",
      "      Medium       0.37      0.18      0.24      3335\n",
      "       Short       0.84      0.94      0.89     16903\n",
      "\n",
      "    accuracy                           0.79     21071\n",
      "   macro avg       0.53      0.45      0.47     21071\n",
      "weighted avg       0.75      0.79      0.76     21071\n",
      "\n"
     ]
    }
   ],
   "source": [
    "from sklearn.linear_model import LogisticRegression\n",
    "\n",
    "lr = LogisticRegression(max_iter=1000)\n",
    "lr.fit(X_resampled, y_resampled)\n",
    "y_pred_lr = lr.predict(X_test)\n",
    "\n",
    "print(\"Logistic Regression - Classification Report\")\n",
    "print(classification_report(y_test, y_pred_lr, target_names=le.classes_))\n"
   ]
  },
  {
   "cell_type": "markdown",
   "id": "cded162a-6d0e-44e2-b7c8-0914d36b9090",
   "metadata": {},
   "source": [
    "Analysis:\n",
    "\n",
    "Very high accuracy (~79%) mostly due to correctly predicting the Short delay class.\n",
    "\n",
    "Simple and fast to train."
   ]
  },
  {
   "cell_type": "markdown",
   "id": "893b8817-35ed-4112-9bf7-f88532d7e61f",
   "metadata": {},
   "source": [
    "### Confusion Matrix for XGBoost\n",
    "\n",
    "To understand how each model performs for each specific delay class."
   ]
  },
  {
   "cell_type": "code",
   "execution_count": 17,
   "id": "1c147d88-e9c2-4f4c-a2aa-924715d0e11a",
   "metadata": {},
   "outputs": [
    {
     "data": {
      "image/png": "[encoded data removed]",
      "text/plain": [
       "<Figure size 640x480 with 2 Axes>"
      ]
     },
     "metadata": {},
     "output_type": "display_data"
    }
   ],
   "source": [
    "import matplotlib.pyplot as plt\n",
    "\n",
    "from sklearn.metrics import confusion_matrix, ConfusionMatrixDisplay\n",
    "\n",
    "cm = confusion_matrix(y_test, y_pred_xgb)\n",
    "disp = ConfusionMatrixDisplay(confusion_matrix=cm, display_labels=le.classes_)\n",
    "disp.plot(cmap=plt.cm.Blues)\n",
    "plt.title(\"Confusion Matrix - XGBoost\")\n",
    "plt.show()\n"
   ]
  },
  {
   "cell_type": "markdown",
   "id": "b862c170-8d69-47be-851b-2fbfcac65454",
   "metadata": {},
   "source": [
    "#### Chart Analysis:\n",
    "\n",
    "The model is now predicting “Long” and “Medium” delays more often than before.\n",
    "\n",
    "Majority of \"Short\" delays are still predicted correctly, but now we see:\n",
    "\n",
    "354 correct \"Long\"\n",
    "\n",
    "1,636 correct \"Medium\"\n",
    "\n",
    "This shows progress in handling minority classes, which were being completely missed before."
   ]
  },
  {
   "cell_type": "markdown",
   "id": "3748291b-4345-45a3-9ef6-733c39d05e11",
   "metadata": {},
   "source": [
    "### Model Comparison: f1-score by Class\n",
    "\n",
    "To visually compare the performance of different models (Random Forest, Logistic Regression, XGBoost).\n"
   ]
  },
  {
   "cell_type": "code",
   "execution_count": 18,
   "id": "8f6e4a3e-7460-4b2a-8c3f-63242838901d",
   "metadata": {},
   "outputs": [
    {
     "data": {
      "image/png": "[encoded data removed]",
      "text/plain": [
       "<Figure size 600x400 with 1 Axes>"
      ]
     },
     "metadata": {},
     "output_type": "display_data"
    }
   ],
   "source": [
    "import seaborn as sns\n",
    "import matplotlib.pyplot as plt\n",
    "from sklearn.metrics import f1_score\n",
    "\n",
    "# Compute f1-scores for each model (macro)\n",
    "f1_rf = f1_score(y_test, y_pred_rf, average='macro')\n",
    "f1_lr = f1_score(y_test, y_pred_lr, average='macro')\n",
    "f1_xgb = f1_score(y_test, y_pred_xgb, average='macro')\n",
    "\n",
    "# Plot\n",
    "plt.figure(figsize=(6,4))\n",
    "sns.barplot(x=[\"Random Forest\", \"Logistic Regression\", \"XGBoost\"], y=[f1_rf, f1_lr, f1_xgb])\n",
    "plt.ylabel(\"Macro F1 Score\")\n",
    "plt.title(\"Model Comparison - Macro F1 Score\")\n",
    "plt.ylim(0, 1)\n",
    "plt.show()\n"
   ]
  },
  {
   "cell_type": "markdown",
   "id": "5b496ed3-ed2d-4f1a-8258-0fa523085c5e",
   "metadata": {},
   "source": [
    "Chart Analysis:\n",
    "\n",
    "All three models (Random Forest, Logistic Regression, XGBoost) are performing similarly in terms of macro F1 (around 0.47).\n",
    "\n",
    "But XGBoost is more balanced in predictions and captures harder-to-classify delays better.\n",
    "\n",
    "Macro F1 is a fair metric because it treats all delay categories equally, not just the dominant \"Short\" ones."
   ]
  },
  {
   "cell_type": "markdown",
   "id": "021f6920-64bf-4889-a84c-56f7fb56bfa5",
   "metadata": {},
   "source": [
    "##### Overall Analysis\n",
    "\n",
    "- We expanded our features by adding Station, Line, and Code to better capture the causes of delays. These were missing in earlier weeks and are more contextually relevant.\n",
    "\n",
    "- We cleaned and prepared the data pipeline:\n",
    "\n",
    "- Applied one-hot encoding to handle categorical features.\n",
    "\n",
    "- Used SMOTE to balance the imbalanced target classes.\n",
    "\n",
    "- Fixed feature name issues that were causing errors in XGBoost.\n",
    "\n",
    "- We trained and evaluated three models – Random Forest, Logistic Regression, and XGBoost – on the updated dataset.\n",
    "\n",
    "We got better results:\n",
    "\n",
    "- The models can now detect Medium and Long delays, which were previously ignored.\n",
    "\n",
    "- XGBoost and Random Forest produced more balanced predictions, not just favoring \"Short\".\n",
    "\n",
    "- Logistic Regression still prefers the majority class, but overall accuracy was high.\n",
    "\n",
    "- XGBoost is our most balanced model so far.\n",
    "\n",
    "Now we have a much stronger baseline than before, with meaningful insights for all three classes of delays."
   ]
  },
  {
   "cell_type": "code",
   "execution_count": null,
   "id": "143eb231-c5dc-438c-8fcc-15de2f4a1a32",
   "metadata": {},
   "outputs": [],
   "source": []
  }
 ],
 "metadata": {
  "kernelspec": {
   "display_name": "Python 3 (ipykernel)",
   "language": "python",
   "name": "python3"
  },
  "language_info": {
   "codemirror_mode": {
    "name": "ipython",
    "version": 3
   },
   "file_extension": ".py",
   "mimetype": "text/x-python",
   "name": "python",
   "nbconvert_exporter": "python",
   "pygments_lexer": "ipython3",
   "version": "3.11.8"
  }
 },
 "nbformat": 4,
 "nbformat_minor": 5
}
